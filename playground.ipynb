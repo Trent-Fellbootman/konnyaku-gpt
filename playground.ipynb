{
 "cells": [
  {
   "cell_type": "code",
   "execution_count": 1,
   "metadata": {},
   "outputs": [],
   "source": [
    "%load_ext autoreload\n",
    "%autoreload 2"
   ]
  },
  {
   "cell_type": "code",
   "execution_count": 2,
   "metadata": {},
   "outputs": [],
   "source": [
    "from src.utils import compile_video_for_llm\n",
    "from src.models.whisper import Whisper\n",
    "from src.models.blip_large import BlipLarge\n",
    "\n",
    "from pathlib import Path\n",
    "import json\n",
    "\n",
    "import os\n",
    "\n",
    "\n",
    "os.environ['TOKENIZERS_PARALLELISM'] = 'true'"
   ]
  },
  {
   "cell_type": "code",
   "execution_count": 3,
   "metadata": {},
   "outputs": [
    {
     "name": "stdout",
     "output_type": "stream",
     "text": [
      "Splitting video: /home/trent/Downloads/episode.mp4\n"
     ]
    },
    {
     "name": "stderr",
     "output_type": "stream",
     "text": [
      "clip 41:   9%|▉         | 2897/31342.3396 [00:16<03:30, 135.41it/s]"
     ]
    }
   ],
   "source": [
    "compile_video_for_llm(Path('/home/trent/Downloads/episode.mp4'), Path('./episode-15-data'), Whisper, BlipLarge, rtol=0.4)"
   ]
  }
 ],
 "metadata": {
  "kernelspec": {
   "display_name": "python311",
   "language": "python",
   "name": "python3"
  },
  "language_info": {
   "codemirror_mode": {
    "name": "ipython",
    "version": 3
   },
   "file_extension": ".py",
   "mimetype": "text/x-python",
   "name": "python",
   "nbconvert_exporter": "python",
   "pygments_lexer": "ipython3",
   "version": "3.11.3"
  },
  "orig_nbformat": 4
 },
 "nbformat": 4,
 "nbformat_minor": 2
}
